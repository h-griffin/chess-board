{
 "cells": [
  {
   "cell_type": "code",
   "execution_count": null,
   "metadata": {},
   "outputs": [],
   "source": [
    "import numpy as np\n",
    "import matplotlib.pyplot as plt"
   ]
  },
  {
   "cell_type": "code",
   "execution_count": null,
   "metadata": {},
   "outputs": [],
   "source": [
    "class ChessBoard:\n",
    "    def __init__(self):\n",
    "        self._grid = np.zeros((8,8,3))\n",
    "        white = (1,1,1)\n",
    "        self.red = (1,0,0)\n",
    "        self.blue = (0,0,1)\n",
    "        self.blue_queen = None\n",
    "        self.red_queen = None\n",
    "        \n",
    "        for i in range(0,8,2):\n",
    "            self._grid[i + 0][::2] = white\n",
    "            self._grid[i + 1][1::2] = white\n",
    "\n",
    "    def add_red(self, row, col):\n",
    "        self._grid[row, col] = self.red\n",
    "        self.red_queen = [row, col]\n",
    "\n",
    "    def add_blue(self, row, col):\n",
    "        self._grid[row, col] = self.blue\n",
    "        self.blue_queen = [row, col]\n",
    "\n",
    "    def render(self):\n",
    "        plt.imshow(self._grid)\n",
    "\n",
    "    def is_diagonal(self, ax,ay,bx,by):\n",
    "        \"\"\"subtract the coordinates from eachother to determine if diagonal\n",
    "        //from class repo.\"\"\"\n",
    "        dx = abs(ax - bx)\n",
    "        dy = abs(ay - by)\n",
    "        return dx == dy\n",
    "\n",
    "    def is_under_attack(self): \n",
    "        \"\"\"returns bool if the queen is under attack vertically, horizontally, or diagonally. \"\"\"\n",
    "        rr = self.red_queen[0]\n",
    "        rc = self.red_queen[1]\n",
    "        br = self.blue_queen[0]\n",
    "        bc = self.blue_queen[1]\n",
    "        \n",
    "        if rr == br:\n",
    "            return True\n",
    "        if rc == bc:\n",
    "            return True\n",
    "        #if abs(r_row - b_row) == abs(r_col - b_col):\n",
    "        if self.is_diagonal(rr, rc, br, bc):\n",
    "            return True\n",
    "        return False \n"
   ]
  },
  {
   "cell_type": "code",
   "execution_count": null,
   "metadata": {},
   "outputs": [],
   "source": [
    "board = ChessBoard()\n",
    "board.add_red(5,6)\n",
    "board.add_blue(3,6)\n",
    "board.render()\n",
    "if board.is_under_attack():\n",
    "    print('******* off with her head! *******')\n",
    "else:\n",
    "    print('******** not today satan. ********')"
   ]
  },
  {
   "cell_type": "code",
   "execution_count": null,
   "metadata": {},
   "outputs": [],
   "source": [
    "#tests\n",
    "board = ChessBoard()\n",
    "# board.add_red(5,6)\n",
    "# board.add_blue(3,6)\n",
    "# assert is_under_attack() == True\n",
    "assert board.is_diagonal(0,0,1,1) == True\n",
    "assert board.is_diagonal(5,6,3,2) == False\n",
    "\n",
    "print('******* all good dood *******')\n"
   ]
  }
 ],
 "metadata": {
  "language_info": {
   "codemirror_mode": {
    "name": "ipython",
    "version": 3
   },
   "file_extension": ".py",
   "mimetype": "text/x-python",
   "name": "python",
   "nbconvert_exporter": "python",
   "pygments_lexer": "ipython3",
   "version": 3
  },
  "orig_nbformat": 2
 },
 "nbformat": 4,
 "nbformat_minor": 2
}